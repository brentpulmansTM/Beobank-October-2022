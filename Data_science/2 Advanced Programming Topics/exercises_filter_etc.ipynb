{
 "cells": [
  {
   "cell_type": "markdown",
   "metadata": {},
   "source": [
    "# Filter\n",
    "\n",
    "Goal is to extract a list containing all the prime numbers in a given interval. For example, all the prime numbers in a range from 1 to 50 returns:\n",
    "\n",
    "<code>[2, 3, 5, 7, 11, 13, 17, 19, 23, 29, 31, 37, 41, 43, 47]</code>\n",
    "\n",
    "There are many solutions for this exercise but here you should use as many built-in functions as possible.\n",
    "To do that, you can start by coding a function is_prime_number() that takes an integer as an argument and returns True if the number is prime and False otherwise.\n",
    "\n",
    "Then call this function using filter() to extract all the prime numbers in the range between 1 and 50.\n"
   ]
  },
  {
   "cell_type": "code",
   "execution_count": 10,
   "metadata": {},
   "outputs": [
    {
     "name": "stdout",
     "output_type": "stream",
     "text": [
      "[1, 2, 3, 5, 7, 11, 13, 17, 19, 23, 29, 31, 37, 41, 43, 47]\n"
     ]
    }
   ],
   "source": [
    "from math import sqrt\n",
    "\n",
    "def is_prime(nr):\n",
    "    if nr == 1:\n",
    "        return False\n",
    "\n",
    "    for i in range(2, int(sqrt(nr))+1):\n",
    "        if nr % i == 0:\n",
    "            return False\n",
    "        \n",
    "    return True\n",
    "    \n",
    "print( list(filter( is_prime, range(1,51) )))"
   ]
  },
  {
   "cell_type": "markdown",
   "metadata": {},
   "source": [
    "# Map – Lambda function – List Comprehension\n",
    "\n",
    "First write 2 functions to convert an incoming temperature from Fahrenheit [°F] to Celsius [°C] and vice versa. These are the formulas you need:\n",
    "\n",
    "C =\t5/9*(F - 32)\n",
    "\n",
    "F =\t9/5*C + 32"
   ]
  },
  {
   "cell_type": "code",
   "execution_count": 24,
   "metadata": {},
   "outputs": [],
   "source": [
    "def c_to_f(c):\n",
    "    return int(round(9/5*c+32))\n",
    "\n",
    "def f_to_c(f):\n",
    "    return int(round(5/9*(f-32)))\n",
    "\n",
    "assert c_to_f(0) == 32\n",
    "assert c_to_f(20) == 68\n",
    "assert f_to_c(0) == -18\n",
    "assert f_to_c(100) == 38"
   ]
  },
  {
   "cell_type": "markdown",
   "metadata": {},
   "source": [
    "Secondly, in your main program, initialize 2 lists containing temperatures in °F or °C   \n",
    "<code>\n",
    "ctemps = [0, 12, 34, 100]\n",
    "\n",
    "ftemps = [32, 65, 100, 212]\n",
    "</code>\n",
    "\n",
    "Then call the created functions to convert the lists to the other temperature scale using map()."
   ]
  },
  {
   "cell_type": "code",
   "execution_count": 27,
   "metadata": {},
   "outputs": [
    {
     "name": "stdout",
     "output_type": "stream",
     "text": [
      "[32, 54, 93, 212]\n",
      "[0, 18, 38, 100]\n"
     ]
    }
   ],
   "source": [
    "ctemps = [0, 12, 34, 100]\n",
    "ftemps = [32, 65, 100, 212]\n",
    "\n",
    "print(list(map(c_to_f, ctemps)))\n",
    "print(list(map(f_to_c, ftemps)))"
   ]
  },
  {
   "cell_type": "markdown",
   "metadata": {},
   "source": [
    "Next, try to perform the conversions on the list data using a Lamba function instead of the defined functions."
   ]
  },
  {
   "cell_type": "code",
   "execution_count": 18,
   "metadata": {},
   "outputs": [
    {
     "name": "stdout",
     "output_type": "stream",
     "text": [
      "[32, 54, 93, 212]\n",
      "[0, 18, 38, 100]\n"
     ]
    }
   ],
   "source": [
    "print(list(map(lambda c:int(round(9/5*c+32)), ctemps)))\n",
    "print(list(map(lambda f:int(round(5/9*(f-32))), ftemps)))"
   ]
  },
  {
   "cell_type": "markdown",
   "metadata": {},
   "source": [
    "Finally, try to use list comprehension to accomplish the same thing.\n",
    "The output must be 3 times completely identical. Temperatures have been rounded."
   ]
  },
  {
   "cell_type": "code",
   "execution_count": 28,
   "metadata": {},
   "outputs": [
    {
     "name": "stdout",
     "output_type": "stream",
     "text": [
      "[32, 54, 93, 212]\n",
      "[0, 18, 38, 100]\n"
     ]
    }
   ],
   "source": [
    "print( [ int(round(9/5*c+32)) for c in ctemps ] )\n",
    "new_c = [ int(round(5/9*(f-32))) for f in ftemps ]\n",
    "\n",
    "# print(new_f)\n",
    "print(new_c)"
   ]
  },
  {
   "cell_type": "markdown",
   "metadata": {},
   "source": [
    "# Zip – enumerate – dict\n",
    "\n",
    "Create 2  lists containing the days of the week in English and in Dutch. "
   ]
  },
  {
   "cell_type": "code",
   "execution_count": 29,
   "metadata": {},
   "outputs": [],
   "source": [
    "weekdays_english = [\"Sun\", \"Mon\", \"Tue\", \"Wed\", \"Thu\", \"Fri\", \"Sat\"]\n",
    "weekdays_dutch = [\"zon\", \"ma\", \"di\", \"woe\", \"don\", \"vrij\", \"zat\"]"
   ]
  },
  {
   "cell_type": "markdown",
   "metadata": {},
   "source": [
    "Print an overview of the corresponding items:\n",
    "\n",
    "![](2022-09-08-16-07-59.png)"
   ]
  },
  {
   "cell_type": "code",
   "execution_count": 35,
   "metadata": {},
   "outputs": [
    {
     "name": "stdout",
     "output_type": "stream",
     "text": [
      "('Sun', 'zon')\n",
      "('Mon', 'ma')\n",
      "('Tue', 'di')\n",
      "('Wed', 'woe')\n",
      "('Thu', 'don')\n",
      "('Fri', 'vrij')\n",
      "('Sat', 'zat')\n"
     ]
    }
   ],
   "source": [
    "print (*list(zip(weekdays_english,weekdays_dutch)), sep=\"\\n\")"
   ]
  },
  {
   "cell_type": "markdown",
   "metadata": {},
   "source": [
    "Change the output in:\n",
    "\n",
    "![](2022-09-08-16-12-07.png)"
   ]
  },
  {
   "cell_type": "code",
   "execution_count": 36,
   "metadata": {},
   "outputs": [
    {
     "name": "stdout",
     "output_type": "stream",
     "text": [
      "In English Sun = zon in Dutch\n",
      "In English Mon = ma in Dutch\n",
      "In English Tue = di in Dutch\n",
      "In English Wed = woe in Dutch\n",
      "In English Thu = don in Dutch\n",
      "In English Fri = vrij in Dutch\n",
      "In English Sat = zat in Dutch\n"
     ]
    }
   ],
   "source": [
    "for en, du in zip(weekdays_english,weekdays_dutch):\n",
    "    print(f\"In English {en} = {du} in Dutch\")"
   ]
  },
  {
   "cell_type": "markdown",
   "metadata": {},
   "source": [
    "Next add a counter to the output:\n",
    "\n",
    "![](2022-09-08-16-14-26.png)"
   ]
  },
  {
   "cell_type": "code",
   "execution_count": 38,
   "metadata": {},
   "outputs": [
    {
     "name": "stdout",
     "output_type": "stream",
     "text": [
      "0 Sun = zon in Dutch\n",
      "1 Mon = ma in Dutch\n",
      "2 Tue = di in Dutch\n",
      "3 Wed = woe in Dutch\n",
      "4 Thu = don in Dutch\n",
      "5 Fri = vrij in Dutch\n",
      "6 Sat = zat in Dutch\n"
     ]
    }
   ],
   "source": [
    "for i, (en, du) in enumerate(zip(weekdays_english,weekdays_dutch)):\n",
    "    print(f\"{i} {en} = {du} in Dutch\")"
   ]
  },
  {
   "cell_type": "markdown",
   "metadata": {},
   "source": [
    "Finally, create a dictionary containing key value pairs:\n",
    "\n",
    "<code>{'Sun': 'zon', 'Mon': 'ma', 'Tue': 'di', 'Wed': 'woe', 'Thu': 'don', 'Fri': 'vrij', 'Sat': 'zat'}</code>\n"
   ]
  },
  {
   "cell_type": "code",
   "execution_count": 40,
   "metadata": {},
   "outputs": [
    {
     "name": "stdout",
     "output_type": "stream",
     "text": [
      "{'Sun': 'zon', 'Mon': 'ma', 'Tue': 'di', 'Wed': 'woe', 'Thu': 'don', 'Fri': 'vrij', 'Sat': 'zat'}\n"
     ]
    }
   ],
   "source": [
    "# new_dict = { en:du for (en, du) in zip(weekdays_english,weekdays_dutch)}\n",
    "new_dict = dict(zip(weekdays_english,weekdays_dutch))\n",
    "\n",
    "print(new_dict)"
   ]
  },
  {
   "cell_type": "markdown",
   "metadata": {},
   "source": [
    "# OO – zip\n",
    "\n",
    "First, create a class City.  Each City object consists of a zipcode and a name."
   ]
  },
  {
   "cell_type": "code",
   "execution_count": 51,
   "metadata": {},
   "outputs": [],
   "source": [
    "class City:\n",
    "    def __init__(self, zip, name):\n",
    "        self.name = name\n",
    "        self.zip = zip\n",
    "\n",
    "    def __str__(self):\n",
    "        return f\"{self.zip} {self.name}\""
   ]
  },
  {
   "cell_type": "markdown",
   "metadata": {},
   "source": [
    "Now use the following 2 lists:"
   ]
  },
  {
   "cell_type": "code",
   "execution_count": 46,
   "metadata": {},
   "outputs": [],
   "source": [
    "lst1=[2440, 1000,  3500, 2800, 9000]\n",
    "lst2=[\"Geel\", \"Brussel\", \"Hasselt\", \"Mechelen\", \"Gent\"]"
   ]
  },
  {
   "cell_type": "markdown",
   "metadata": {},
   "source": [
    "Finally create a list with City objects and print an overview.\n",
    "\n",
    "![](2022-09-08-16-25-25.png)"
   ]
  },
  {
   "cell_type": "code",
   "execution_count": 52,
   "metadata": {},
   "outputs": [
    {
     "name": "stdout",
     "output_type": "stream",
     "text": [
      "2440 Geel\n",
      "1000 Brussel\n",
      "3500 Hasselt\n",
      "2800 Mechelen\n",
      "9000 Gent\n"
     ]
    }
   ],
   "source": [
    "#loop over both lists\n",
    "cities = []\n",
    "for zipcode, city in zip(lst1,lst2):\n",
    "    cities.append(City(zipcode,city))\n",
    "\n",
    "for city in cities:\n",
    "    print(city)"
   ]
  },
  {
   "cell_type": "markdown",
   "metadata": {},
   "source": [
    "# Statistics: detecting outliers\n",
    "\n",
    "When you’re trying to describe and summarize a sample of data, you probably start by finding its mean, or average. The mean is a quite popular central tendency measurement and is often the first approach to analyzing a dataset.\n",
    "\n",
    "In some cases, the mean isn’t a good enough central tendency measure for a given sample. Outliers are one of the elements that affect how accurate the mean is. Outliers are data points that differ significantly from other observations in a sample or population.\n",
    "\n",
    "In this exercise you start with a list of measurements. Two of the measurements (42, 34) however are obviously outliers. \n"
   ]
  },
  {
   "cell_type": "code",
   "execution_count": 54,
   "metadata": {},
   "outputs": [],
   "source": [
    "sample = [10, 8, 10, 8, 42, 7, 9, 3, 34, 9, 5, 9, 11,8,7,12]"
   ]
  },
  {
   "cell_type": "markdown",
   "metadata": {},
   "source": [
    "* First calculate the mean of the sample data: -> 12\n",
    "* Next calculate the mean again on a filtered set of the sample data that only contains data points between 5 and 15: -> 8.692307692307692\n",
    "\n",
    "Try to write the second calculation in one line of Python code using a Lambda function.\n",
    "\n",
    "Use the mean() out of the basic Python statistics library. "
   ]
  },
  {
   "cell_type": "code",
   "execution_count": 58,
   "metadata": {},
   "outputs": [
    {
     "name": "stdout",
     "output_type": "stream",
     "text": [
      "12\n",
      "8.692307692307692\n",
      "8.692307692307692\n"
     ]
    }
   ],
   "source": [
    "import statistics as st\n",
    "\n",
    "print( st.mean(sample))\n",
    "\n",
    "print( st.mean(list(filter( lambda nr: 5<=nr<=15, sample))))\n",
    "\n",
    "print( st.mean([ nr for nr in sample if 5<=nr<=15 ]))"
   ]
  }
 ],
 "metadata": {
  "kernelspec": {
   "display_name": "Python 3.10.2 64-bit",
   "language": "python",
   "name": "python3"
  },
  "language_info": {
   "codemirror_mode": {
    "name": "ipython",
    "version": 3
   },
   "file_extension": ".py",
   "mimetype": "text/x-python",
   "name": "python",
   "nbconvert_exporter": "python",
   "pygments_lexer": "ipython3",
   "version": "3.10.2"
  },
  "orig_nbformat": 4,
  "vscode": {
   "interpreter": {
    "hash": "26de051ba29f2982a8de78e945f0abaf191376122a1563185a90213a26c5da77"
   }
  }
 },
 "nbformat": 4,
 "nbformat_minor": 2
}
