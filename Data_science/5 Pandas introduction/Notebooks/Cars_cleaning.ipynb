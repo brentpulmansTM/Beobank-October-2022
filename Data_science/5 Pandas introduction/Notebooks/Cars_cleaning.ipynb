{
 "cells": [
  {
   "cell_type": "markdown",
   "metadata": {},
   "source": [
    "# The cars dataset - Cleaning\n",
    "\n",
    "The cars dataset is a basic dataset of some cars and their mileage. Many versions of this dataset are available, we'll be using the one R has installed by default.\n",
    "\n",
    "In this notebook we'll import the dataset and clean it up."
   ]
  },
  {
   "cell_type": "code",
   "execution_count": null,
   "metadata": {},
   "outputs": [],
   "source": [
    "import pandas as pd\n",
    "\n",
    "df = pd.read_csv(\"https://raw.githubusercontent.com/mjochen/Beobank_course_material/main/Data_science/5%20Pandas%20introduction/Notebooks/files/mpg.csv\")  \n",
    "    \n",
    "df.head(10) "
   ]
  },
  {
   "cell_type": "markdown",
   "metadata": {},
   "source": [
    "It was imported fine, but the first column is all wrong: the CSV has an index, but that index was seen as an extra column (and another index was added)."
   ]
  },
  {
   "cell_type": "code",
   "execution_count": null,
   "metadata": {},
   "outputs": [],
   "source": [
    "df = pd.read_csv(\"https://raw.githubusercontent.com/mjochen/Beobank_course_material/main/Data_science/5%20Pandas%20introduction/Notebooks/files/mpg.csv\", index_col=0) \n",
    "df.head(10)"
   ]
  },
  {
   "cell_type": "markdown",
   "metadata": {},
   "source": [
    "But what does all this mean? When looking at data there are a number of ways in which data can be dirty:\n",
    "\n",
    "- Bad data (missing observations, dual observations, ...)\n",
    "- Wrong structure (fields joined or spread out, ...)\n",
    "- Dirty (wrong datatypes, string processing needed, ...)\n",
    "\n",
    "The mpg-dataset has no bad data, and the structure is also fine. But there still are improvements.\n",
    "\n",
    "By the way, what all the fields stand for is also well [explained](https://www.rdocumentation.org/packages/ggplot2/versions/3.3.6/topics/mpg) in the R-documentation.\n",
    "\n",
    "Let's start with miles per gallon (cty and hwy for city and highway respectively). In liters per 100km that would be:\n",
    "\n",
    "Liters100km = \t(100 * 3.785411784)/(1.609344 * MPG)"
   ]
  },
  {
   "cell_type": "code",
   "execution_count": null,
   "metadata": {},
   "outputs": [],
   "source": [
    "df['clkm'] = [ (100 * 3.785411784)/(1.609344 * mpg) for mpg in df['cty']]\n",
    "df['hwlkm'] = [ (100 * 3.785411784)/(1.609344 * mpg) for mpg in df['hwy']]\n",
    "\n",
    "df.head(10)"
   ]
  },
  {
   "cell_type": "markdown",
   "metadata": {},
   "source": [
    "The class of a car is actually a categorical value. This means it can only have a number of discrete values. Let's convert the class of the car to that type."
   ]
  },
  {
   "cell_type": "code",
   "execution_count": null,
   "metadata": {},
   "outputs": [],
   "source": [
    "df[\"class\"] = pd.Categorical(df['class'])"
   ]
  },
  {
   "cell_type": "markdown",
   "metadata": {},
   "source": [
    "The class of a car is not an ordered type of category but some are. Examples would be health labels on food, year a student is in, ... Let's assume it is though."
   ]
  },
  {
   "cell_type": "code",
   "execution_count": null,
   "metadata": {},
   "outputs": [],
   "source": [
    "df['class'].unique()"
   ]
  },
  {
   "cell_type": "code",
   "execution_count": null,
   "metadata": {},
   "outputs": [],
   "source": [
    "from pandas.api.types import CategoricalDtype\n",
    "\n",
    "# categories-list copied en rearranged from unique values\n",
    "# and added a category just for fun\n",
    "cat_type = CategoricalDtype(categories=['three wheeled car','2seater', 'subcompact', 'compact', 'midsize', 'minivan', 'suv', 'pickup'], ordered=True)\n",
    "\n",
    "df[\"class\"] = df['class'].astype(cat_type)\n",
    "\n",
    "df.head()"
   ]
  },
  {
   "cell_type": "markdown",
   "metadata": {},
   "source": [
    "And why are we doing this? Well, let's look at the result of a group by now..."
   ]
  },
  {
   "cell_type": "code",
   "execution_count": null,
   "metadata": {},
   "outputs": [],
   "source": [
    "df.groupby('class').describe()"
   ]
  },
  {
   "cell_type": "markdown",
   "metadata": {},
   "source": [
    "Some selections! Let's get all cars with an engine displacement of 3 or less."
   ]
  },
  {
   "cell_type": "code",
   "execution_count": null,
   "metadata": {},
   "outputs": [],
   "source": [
    "df[ df.displ <= 3]"
   ]
  },
  {
   "cell_type": "markdown",
   "metadata": {},
   "source": [
    "And from this, only show the manufacturer and the nr of cylinders."
   ]
  },
  {
   "cell_type": "code",
   "execution_count": null,
   "metadata": {},
   "outputs": [],
   "source": [
    "df[ df.displ <= 3][['manufacturer', 'cyl']]"
   ]
  },
  {
   "cell_type": "markdown",
   "metadata": {},
   "source": [
    "All cars having an odd number of cylinders or a displacement of exactly 2.8."
   ]
  },
  {
   "cell_type": "code",
   "execution_count": null,
   "metadata": {},
   "outputs": [],
   "source": [
    "df[ (df.displ == 2.8) | (df.cyl % 2 == 1)][['manufacturer', 'cyl', 'displ']]"
   ]
  },
  {
   "cell_type": "markdown",
   "metadata": {},
   "source": [
    "Same as above, but sort by ascending number of cylinders."
   ]
  },
  {
   "cell_type": "code",
   "execution_count": null,
   "metadata": {},
   "outputs": [],
   "source": [
    "df[ (df.displ == 2.8) | (df.cyl % 2 == 1)][['manufacturer', 'cyl', 'displ']].sort_values('cyl')"
   ]
  },
  {
   "cell_type": "markdown",
   "metadata": {},
   "source": [
    "What is the average displacement of all our cars? [Many options!](https://medium.com/analytics-vidhya/how-to-summarize-data-with-pandas-2c9edffafbaf)\n",
    "\n",
    "info(): provides a concise summary of a dataframe."
   ]
  },
  {
   "cell_type": "code",
   "execution_count": null,
   "metadata": {},
   "outputs": [],
   "source": [
    "df.info()"
   ]
  },
  {
   "cell_type": "markdown",
   "metadata": {},
   "source": [
    "describe(): Generates descriptive statistics that will provide visibility of the dispersion and shape of a dataset’s distribution. It excludes NaN values. It can be used for dataframe or a specific series."
   ]
  },
  {
   "cell_type": "code",
   "execution_count": null,
   "metadata": {},
   "outputs": [],
   "source": [
    "df.describe()"
   ]
  },
  {
   "cell_type": "markdown",
   "metadata": {},
   "source": [
    "value_counts(): returns counts of unique values for the specified series. NaN values are excluded by default."
   ]
  },
  {
   "cell_type": "code",
   "execution_count": null,
   "metadata": {},
   "outputs": [],
   "source": [
    "df.displ.value_counts()"
   ]
  },
  {
   "cell_type": "markdown",
   "metadata": {},
   "source": [
    "nunique(): Count distinct observations. Can be used for a dataframe or a series. By default, it exclude the NaN values."
   ]
  },
  {
   "cell_type": "code",
   "execution_count": null,
   "metadata": {},
   "outputs": [],
   "source": [
    "df.nunique()"
   ]
  },
  {
   "cell_type": "markdown",
   "metadata": {},
   "source": [
    "sum(): Return the sum of the values for the requested axis. You can use it for both dataframe and series.\n",
    "\n",
    "Watch out! Avoid selecting categorical columns to avoid a deprecated-error."
   ]
  },
  {
   "cell_type": "code",
   "execution_count": null,
   "metadata": {},
   "outputs": [],
   "source": [
    "df[['displ', 'cyl', 'hwy','model']].sum()\n",
    "\n",
    "# the error:\n",
    "# df[['displ','class']].sum()"
   ]
  },
  {
   "cell_type": "markdown",
   "metadata": {},
   "source": [
    "count(): Return number of non-NA/null observations."
   ]
  },
  {
   "cell_type": "code",
   "execution_count": null,
   "metadata": {},
   "outputs": [],
   "source": [
    "df.count( numeric_only = True)"
   ]
  },
  {
   "cell_type": "markdown",
   "metadata": {},
   "source": [
    "Min and Max, Mean and Median:\n",
    "\n",
    "* min(): Return the minimum value\n",
    "* max(): Return the maximum value\n",
    "* mean(): Return the mean of the values\n",
    "* median(): Return the median of the values\n",
    "\n",
    "These functions can be applied to both dataframe and series.\n",
    "\n",
    "(Note the class! The max is the last value of our ordered class.)"
   ]
  },
  {
   "cell_type": "code",
   "execution_count": null,
   "metadata": {},
   "outputs": [],
   "source": [
    "df.max()"
   ]
  },
  {
   "cell_type": "markdown",
   "metadata": {},
   "source": [
    "agg(): apply more than one aggregation operations to the same dataset over the specified axis."
   ]
  },
  {
   "cell_type": "code",
   "execution_count": null,
   "metadata": {},
   "outputs": [],
   "source": [
    "df[['displ', 'cyl', 'hwy','model']].agg(['count','min','max'])"
   ]
  },
  {
   "cell_type": "markdown",
   "metadata": {},
   "source": [
    "groupby(): allows you to group data (by applying aggregate functions like sum, max, min…) with the same values into summary rows."
   ]
  },
  {
   "cell_type": "code",
   "execution_count": null,
   "metadata": {},
   "outputs": [],
   "source": [
    "df.groupby('class').cyl.mean()"
   ]
  }
 ],
 "metadata": {
  "kernelspec": {
   "display_name": "Python 3.10.2 64-bit",
   "language": "python",
   "name": "python3"
  },
  "language_info": {
   "codemirror_mode": {
    "name": "ipython",
    "version": 3
   },
   "file_extension": ".py",
   "mimetype": "text/x-python",
   "name": "python",
   "nbconvert_exporter": "python",
   "pygments_lexer": "ipython3",
   "version": "3.10.2"
  },
  "orig_nbformat": 4,
  "vscode": {
   "interpreter": {
    "hash": "26de051ba29f2982a8de78e945f0abaf191376122a1563185a90213a26c5da77"
   }
  }
 },
 "nbformat": 4,
 "nbformat_minor": 2
}
