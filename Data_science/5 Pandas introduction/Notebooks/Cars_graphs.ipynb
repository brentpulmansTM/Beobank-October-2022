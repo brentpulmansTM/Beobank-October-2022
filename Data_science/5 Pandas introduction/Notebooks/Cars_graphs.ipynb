{
 "cells": [
  {
   "cell_type": "markdown",
   "metadata": {},
   "source": [
    "# The cars dataset - Graphs\n",
    "\n",
    "The cars dataset is a basic dataset of some cars and their mileage. Many versions of this dataset are available, we'll be using the one R has installed by default.\n",
    "\n",
    "In this notebook we'll import the dataset and use it to draw some graphs. In another dataset we'll clean it up. Normally you'd combine both in one notebook."
   ]
  },
  {
   "cell_type": "code",
   "execution_count": null,
   "metadata": {},
   "outputs": [],
   "source": [
    "import pandas as pd\n",
    "\n",
    "df = pd.read_csv(\"https://raw.githubusercontent.com/mjochen/Beobank_course_material/main/Data_science/5%20Pandas%20introduction/Notebooks/files/mpg.csv\")  \n",
    "    \n",
    "df.head(10) "
   ]
  },
  {
   "cell_type": "markdown",
   "metadata": {},
   "source": [
    "It was imported fine, but the first column is all wrong: the CSV has an index, but that index was seen as an extra column (and another index was added)."
   ]
  },
  {
   "cell_type": "code",
   "execution_count": null,
   "metadata": {},
   "outputs": [],
   "source": [
    "df = pd.read_csv(\"https://raw.githubusercontent.com/mjochen/Beobank_course_material/main/Data_science/5%20Pandas%20introduction/Notebooks/files/mpg.csv\", index_col=0) \n",
    "df.head(10)"
   ]
  },
  {
   "cell_type": "markdown",
   "metadata": {},
   "source": [
    "Perfect! Now let's create some graphs.\n",
    "\n",
    "![](https://raw.githubusercontent.com/mjochen/Beobank_course_material/main/Data_science/5%20Pandas%20introduction/Notebooks/files/2022-08-24-09-54-06.png)\n",
    "\n",
    "Firstly make sure matplotlib is installed."
   ]
  },
  {
   "cell_type": "code",
   "execution_count": null,
   "metadata": {},
   "outputs": [],
   "source": [
    "!pip install matplotlib"
   ]
  },
  {
   "cell_type": "markdown",
   "metadata": {},
   "source": [
    "## Scatterplots\n",
    "\n",
    "To start of we'll be looking at how two variables relate to each other. We'll be using the boxplot for this.\n",
    "\n",
    "We'll map the highway miles per gallon vs the engine displacement (how big the engine is)."
   ]
  },
  {
   "cell_type": "code",
   "execution_count": null,
   "metadata": {},
   "outputs": [],
   "source": [
    "df.plot(x=\"displ\", y=\"hwy\", kind=\"scatter\")"
   ]
  },
  {
   "cell_type": "markdown",
   "metadata": {},
   "source": [
    "This is a scatterplot. It scatters the datapoints around the field. You can use the following types of graph:\n",
    "\n",
    "\n",
    "1. \"area\" is for area plots.\n",
    "1. \"bar\" is for vertical bar charts.\n",
    "1. \"barh\" is for horizontal bar charts.\n",
    "1. \"box\" is for box plots.\n",
    "1. \"hexbin\" is for hexbin plots.\n",
    "1. \"hist\" is for histograms.\n",
    "1. \"kde\" is for kernel density estimate charts.\n",
    "1. \"density\" is an alias for \"kde\".\n",
    "1. \"line\" is for line graphs.\n",
    "1. \"pie\" is for pie charts.\n",
    "1. \"scatter\" is for scatter plots.\n",
    "\n",
    "You could also import matplotlib separately and show the graphs from there."
   ]
  },
  {
   "cell_type": "code",
   "execution_count": null,
   "metadata": {},
   "outputs": [],
   "source": [
    "import matplotlib.pyplot as plt\n",
    "\n",
    "plt.scatter(df[\"displ\"], df[\"hwy\"])\n",
    "plt.show()"
   ]
  },
  {
   "cell_type": "markdown",
   "metadata": {},
   "source": [
    "Maybe the class of the car has an impact on this graph. Could we color the dots according to the class?"
   ]
  },
  {
   "cell_type": "code",
   "execution_count": null,
   "metadata": {},
   "outputs": [],
   "source": [
    "plt.scatter(df.displ, df.hwy, c=pd.factorize(df['class'])[0])\n",
    "plt.gca().set(xlabel='Engine displacement', ylabel='Highway miles per gallon', title='About cars')"
   ]
  },
  {
   "cell_type": "markdown",
   "metadata": {},
   "source": [
    "Good, but what do the colors stand for?"
   ]
  },
  {
   "cell_type": "code",
   "execution_count": null,
   "metadata": {},
   "outputs": [],
   "source": [
    "import matplotlib.patches\n",
    "\n",
    "levels, categories = pd.factorize(df['class'])\n",
    "colors = [plt.cm.tab10(i) for i in levels] # using the \"tab10\" colormap\n",
    "handles = [matplotlib.patches.Patch(color=plt.cm.tab10(i), label=c) for i, c in enumerate(categories)]\n",
    "\n",
    "plt.scatter(df.displ, df.hwy, c=colors)\n",
    "plt.gca().set(xlabel='Engine displacement', ylabel='Highway miles per gallon', title='About cars')\n",
    "plt.legend(handles=handles, title='Class')"
   ]
  },
  {
   "cell_type": "markdown",
   "metadata": {},
   "source": [
    "There seems to be something of a trend in this data. Could we show this?"
   ]
  },
  {
   "cell_type": "code",
   "execution_count": null,
   "metadata": {},
   "outputs": [],
   "source": [
    "# https://www.statology.org/matplotlib-trendline/\n",
    "\n",
    "import numpy as np\n",
    "\n",
    "plt.scatter(df.displ, df.hwy)\n",
    "\n",
    "#calculate equation for trendline\n",
    "z = np.polyfit(df.displ, df.hwy, 1)\n",
    "p = np.poly1d(z)\n",
    "\n",
    "#add trendline to plot\n",
    "plt.plot(df.displ, p(df.displ), color=\"red\")"
   ]
  },
  {
   "cell_type": "markdown",
   "metadata": {},
   "source": [
    "Maybe a second order trendline? This means the equation for calculating it is in x², not just in x. It's slightly curved, and the more orders you give it the more curvy it gets. (With the risk of overfitting, but that's a different story.)"
   ]
  },
  {
   "cell_type": "code",
   "execution_count": null,
   "metadata": {},
   "outputs": [],
   "source": [
    "# https://www.statology.org/matplotlib-trendline/\n",
    "\n",
    "plt.scatter(df.displ, df.hwy)\n",
    "\n",
    "#calculate equation for trendline\n",
    "z = np.polyfit(df.displ, df.hwy, 2)\n",
    "p = np.poly1d(z)\n",
    "\n",
    "#add trendline to plot\n",
    "plt.plot(df.displ.sort_values(), p(df.displ.sort_values()), color=\"red\")"
   ]
  },
  {
   "cell_type": "markdown",
   "metadata": {},
   "source": [
    "Note how we had to sort the values before plotting them? That's because the line wants to follow the data, so the data has to be sorted. Remove it to see what happens!\n",
    "\n",
    "More information:\n",
    "\n",
    "* [realpython.com/pandas-plot-python/](https://realpython.com/pandas-plot-python/)"
   ]
  },
  {
   "cell_type": "markdown",
   "metadata": {},
   "source": [
    "## Distributions and boxplots\n",
    "\n",
    "After comparing two variables, we'll be looking at just one variable at the time. This is done using a histogram or a boxplot."
   ]
  },
  {
   "cell_type": "code",
   "execution_count": null,
   "metadata": {},
   "outputs": [],
   "source": [
    "plt.hist(df.hwy)"
   ]
  },
  {
   "cell_type": "markdown",
   "metadata": {},
   "source": [
    "A very important consideration in this type of diagram is the bin width. It determines how many values are taken together. A small bin width would give you very detailed information, a large one gives more of a general overview. As in all graphs this also is subject to many rules, like the [Freedman–Diaconis rule](https://en.wikipedia.org/wiki/Freedman%E2%80%93Diaconis_rule).\n",
    "\n",
    "Also not how we show multiple diagrams at once using a subplot."
   ]
  },
  {
   "cell_type": "code",
   "execution_count": null,
   "metadata": {},
   "outputs": [],
   "source": [
    "figure, axis = plt.subplots(1, 3, figsize=(15,5))\n",
    "# plt.figure(figsize=(1, 3))\n",
    "\n",
    "axis[0].hist(df.hwy, bins=3)\n",
    "axis[0].title.set_text(\"Not enough\")\n",
    "axis[1].hist(df.hwy, bins=15)\n",
    "axis[1].title.set_text(\"About right\")\n",
    "axis[2].hist(df.hwy, bins=30)\n",
    "axis[2].title.set_text(\"Too much\")\n",
    "\n",
    "plt.show()"
   ]
  },
  {
   "cell_type": "markdown",
   "metadata": {},
   "source": [
    "These diagrams look way nicer when using data that actually has a normal distribution, like the average length of a group of people, or the weight of cars, or the lifespan of a raccoon in the wild.\n",
    "\n",
    "Let's generate some nice data and show it in a histogram and a boxplot."
   ]
  },
  {
   "cell_type": "code",
   "execution_count": null,
   "metadata": {},
   "outputs": [],
   "source": [
    "np.random.seed(1) # set the basis for the random-engine. This number makes sure the same random numbers are always generated.\n",
    "\n",
    "data = np.random.normal(loc=0, scale=1, size=200)\n",
    "\n",
    "figure, axis = plt.subplots(1, 2, figsize=(12,5))\n",
    "\n",
    "axis[0].hist(data, 45)\n",
    "axis[1].boxplot(data)\n",
    "plt.show()\n"
   ]
  },
  {
   "cell_type": "markdown",
   "metadata": {},
   "source": [
    "A boxplot is a much easier way of looking at a normal distribution. It shows:\n",
    "\n",
    "* the centerline (the red line, the median or middle value)\n",
    "* the main body (the actual box, 50% of all samples are here)\n",
    "* the whiskers (the line next to the box, with 25% above and 25% below the middle box)\n",
    "* the outliers (the dots, data that is not within the expected range)\n",
    "\n",
    "Boxplots are easier to analyse than histograms when you have multiple categories, like with our cars. What is the engine displacement when separated by type (or class) of car?"
   ]
  },
  {
   "cell_type": "code",
   "execution_count": null,
   "metadata": {},
   "outputs": [],
   "source": [
    "df.groupby('class').displ.hist(alpha=0.5)"
   ]
  },
  {
   "cell_type": "markdown",
   "metadata": {},
   "source": [
    "A small command but generally unusable graph. But what would that look like using multiple boxplots?\n",
    "\n",
    "By the way: up until now we've been rigidly using only matplotlib. That's because it is the basic package that started it all. Now we'll take a step up and start using seaborn, which is based on matplotlib but is easier to use and has more functionality. You could, as an exercise, try to get this plot using only matplotlib."
   ]
  },
  {
   "cell_type": "code",
   "execution_count": null,
   "metadata": {},
   "outputs": [],
   "source": [
    "!pip install seaborn"
   ]
  },
  {
   "cell_type": "code",
   "execution_count": null,
   "metadata": {},
   "outputs": [],
   "source": [
    "import seaborn as sns\n",
    "\n",
    "sns.boxplot(data=df, x='class', y='displ')"
   ]
  },
  {
   "cell_type": "markdown",
   "metadata": {},
   "source": [
    "And why not a violinplot to finish up?"
   ]
  },
  {
   "cell_type": "code",
   "execution_count": null,
   "metadata": {},
   "outputs": [],
   "source": [
    "sns.violinplot(x='class', y='displ', data=df)"
   ]
  }
 ],
 "metadata": {
  "kernelspec": {
   "display_name": "Python 3.10.2 64-bit",
   "language": "python",
   "name": "python3"
  },
  "language_info": {
   "codemirror_mode": {
    "name": "ipython",
    "version": 3
   },
   "file_extension": ".py",
   "mimetype": "text/x-python",
   "name": "python",
   "nbconvert_exporter": "python",
   "pygments_lexer": "ipython3",
   "version": "3.10.2"
  },
  "orig_nbformat": 4,
  "vscode": {
   "interpreter": {
    "hash": "26de051ba29f2982a8de78e945f0abaf191376122a1563185a90213a26c5da77"
   }
  }
 },
 "nbformat": 4,
 "nbformat_minor": 2
}
