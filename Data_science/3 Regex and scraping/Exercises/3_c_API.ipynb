{
 "cells": [
  {
   "cell_type": "markdown",
   "metadata": {},
   "source": [
    "# Getting information from API's\n",
    "\n",
    "In the example you got a lot of information about flights, but some of it is quite obscure. In these exercises you'll dig deeper into the flights.\n",
    "\n",
    "First, get all the libraries (requests, regex, the url-builder...), your own API-keys and the headers-dict that we made in the example notebook."
   ]
  },
  {
   "cell_type": "code",
   "execution_count": null,
   "metadata": {},
   "outputs": [],
   "source": []
  },
  {
   "cell_type": "markdown",
   "metadata": {},
   "source": [
    "We'll be reusing the functions we made earlier. And because we are very nice we copy-pasted them for you."
   ]
  },
  {
   "cell_type": "code",
   "execution_count": null,
   "metadata": {},
   "outputs": [],
   "source": [
    "def get_page(url):\n",
    "    print(url)\n",
    "    try:\n",
    "        response = requests.request('GET', url, headers=headers)\n",
    "    except requests.exceptions.ConnectionError as error:\n",
    "        print(error)\n",
    "\n",
    "    return_list = {'headers': response.headers}\n",
    "\n",
    "    if response.status_code == 200:\n",
    "        flightList = response.json()\n",
    "        return_list['flights'] = flightList['flights']\n",
    "    \n",
    "    return return_list\n",
    "\n",
    "def create_url(base_url, date, page=0):\n",
    "    req = PreparedRequest()\n",
    "    params = {'scheduleDate':date}\n",
    "    if page > 0:\n",
    "        params['page'] = page\n",
    "    \n",
    "    req.prepare_url(base_url, params)\n",
    "    return req.url\n",
    "\n",
    "def get_links(raw):\n",
    "    separate = raw.split(',')\n",
    "\n",
    "    links_dict = {}\n",
    "    for link in separate:\n",
    "        url, name = link.split(\";\")\n",
    "        # name = re.sub(\" rel=\\\"([a-z]*)\\\"\", r'\\1', name)\n",
    "        name = re.sub(\" rel=\\\"(first|next|prev|last)\\\"\", r'\\1', name) # much stricter, so better\n",
    "        links_dict[name] = url\n",
    "\n",
    "    return links_dict"
   ]
  },
  {
   "cell_type": "code",
   "execution_count": null,
   "metadata": {},
   "outputs": [],
   "source": []
  },
  {
   "cell_type": "markdown",
   "metadata": {},
   "source": [
    "Download about forty flights (two pages, or all of them, you can choose) that flew on your last birthday. Store as much information as you can in a list."
   ]
  },
  {
   "cell_type": "code",
   "execution_count": null,
   "metadata": {},
   "outputs": [],
   "source": []
  },
  {
   "cell_type": "markdown",
   "metadata": {},
   "source": [
    "Now see if you can find the type of the aircraft somewhere in there"
   ]
  },
  {
   "cell_type": "code",
   "execution_count": null,
   "metadata": {},
   "outputs": [],
   "source": []
  },
  {
   "cell_type": "markdown",
   "metadata": {},
   "source": [
    "You should get a dict with two fields, iataMain and iataSub. Create a new **set** wit all unique values of this dict. (Why a set?)\n",
    "\n",
    "PS: You can't put dicts into a set, but you can put tuples in a set. Convert the aircraft-type-dict to a tuple (index 0 is iataMain, index 1 in iataSub).\n",
    "\n",
    "(And whaddayaknow: list, sets, dicts and tuples all in one line of code! Beautiful! One line because you want to write this using a list comprehension in one line.)"
   ]
  },
  {
   "cell_type": "code",
   "execution_count": null,
   "metadata": {},
   "outputs": [],
   "source": []
  },
  {
   "cell_type": "markdown",
   "metadata": {},
   "source": [
    "Now download all information on these aircrafts. Note how our 'create_url'-function does not generalize well. And our 'get_page' function...\n",
    "\n",
    "First alter both of these so you can keep on using them, but make sure they still work as before for flights:\n",
    "\n",
    "* create_url also takes a tuple with aircrafttypes as (optional) parameter.\n",
    "* get_page takes a parameter that specifies which part of the returned list you are interested in."
   ]
  },
  {
   "cell_type": "code",
   "execution_count": null,
   "metadata": {},
   "outputs": [],
   "source": []
  },
  {
   "cell_type": "markdown",
   "metadata": {},
   "source": [
    "Some more code for free:"
   ]
  },
  {
   "cell_type": "code",
   "execution_count": null,
   "metadata": {},
   "outputs": [],
   "source": [
    "for flight in all_flights[0:12:4]:\n",
    "    print(flight['prefixICAO'],flight['route'], sep=\"\\n\")"
   ]
  },
  {
   "cell_type": "markdown",
   "metadata": {},
   "source": [
    "You know the drill...\n",
    "\n",
    "* https://api.schiphol.nl/public-flights/airlines/{airline} : prefixICAO\n",
    "* https://api.schiphol.nl/public-flights/destinations/{iata} : route/destinations\n",
    "\n",
    "Create lists of all_airlines and all_destinations for all destinations in your list. (Note how sometimes a flight has more than one destination.)\n",
    "\n",
    "When done create pickle-files for these variables. When you know more about pandas we'll be needing these."
   ]
  },
  {
   "cell_type": "code",
   "execution_count": null,
   "metadata": {},
   "outputs": [],
   "source": []
  }
 ],
 "metadata": {
  "kernelspec": {
   "display_name": "Python 3.10.2 ('venv': venv)",
   "language": "python",
   "name": "python3"
  },
  "language_info": {
   "codemirror_mode": {
    "name": "ipython",
    "version": 3
   },
   "file_extension": ".py",
   "mimetype": "text/x-python",
   "name": "python",
   "nbconvert_exporter": "python",
   "pygments_lexer": "ipython3",
   "version": "3.10.2"
  },
  "orig_nbformat": 4,
  "vscode": {
   "interpreter": {
    "hash": "e31c2e8d3ed3a4908bbc2c2b66173ad7e7558239e8d6f52669fbf04aeb9634e1"
   }
  }
 },
 "nbformat": 4,
 "nbformat_minor": 2
}
