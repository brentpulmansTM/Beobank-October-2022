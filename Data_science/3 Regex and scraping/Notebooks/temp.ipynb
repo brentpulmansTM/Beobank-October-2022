{
 "cells": [
  {
   "cell_type": "code",
   "execution_count": 4,
   "metadata": {},
   "outputs": [
    {
     "name": "stdout",
     "output_type": "stream",
     "text": [
      "a < b OR (c == d AND e != f)\n"
     ]
    }
   ],
   "source": [
    "lst = [ \"OR\", [\"<\", \"a\", \"b\"], [ \"AND\", [\"==\", \"c\", \"d\"], [\"!=\", \"e\", \"f\"] ] ]\n",
    "\n",
    "\n",
    "def flatten(lst):\n",
    "    if not isinstance(lst, list):\n",
    "        return lst\n",
    "\n",
    "    if isinstance(lst[2],list) and isinstance(lst[2][1],list):\n",
    "        return flatten(lst[1]) + \" \" + flatten(lst[0]) + \" (\" + flatten(lst[2]) + \")\"\n",
    "    else:\n",
    "        return flatten(lst[1]) + \" \" + flatten(lst[0]) + \" \" + flatten(lst[2])\n",
    "    \n",
    "\n",
    "print(flatten(lst))"
   ]
  },
  {
   "cell_type": "code",
   "execution_count": 9,
   "metadata": {},
   "outputs": [
    {
     "name": "stdout",
     "output_type": "stream",
     "text": [
      "a < b OR (c == d AND e != f)\n"
     ]
    }
   ],
   "source": [
    "lst = [ \"OR\", [\"<\", \"a\", \"b\"], [ \"AND\", [\"==\", \"c\", \"d\"], [\"!=\", \"e\", \"f\"] ] ]\n",
    "\n",
    "\n",
    "def flatten(lst, brackets=False):\n",
    "    if not isinstance(lst, list):\n",
    "        return lst\n",
    "\n",
    "    code = flatten(lst[1], True) + \" \" + flatten(lst[0]) + \" \" + flatten(lst[2], True)\n",
    "    \n",
    "    if brackets and isinstance(lst[1], list):\n",
    "        return \"(\" + code + \")\"\n",
    "    else:\n",
    "        return code\n",
    "    \n",
    "\n",
    "print(flatten(lst))"
   ]
  },
  {
   "cell_type": "code",
   "execution_count": 11,
   "metadata": {},
   "outputs": [
    {
     "name": "stdout",
     "output_type": "stream",
     "text": [
      "a < b OR (c == d AND e != f)\n"
     ]
    }
   ],
   "source": [
    "lst = [ \"OR\", [\"<\", \"a\", \"b\"], [ \"AND\", [\"==\", \"c\", \"d\"], [\"!=\", \"e\", \"f\"] ] ]\n",
    "\n",
    "\n",
    "def flatten(lst, brackets=False):\n",
    "    if not isinstance(lst, list):\n",
    "        return lst\n",
    "\n",
    "    operator = lst[0]\n",
    "    left = flatten(lst[1], True)\n",
    "    right = flatten(lst[2], True)\n",
    "\n",
    "    code = f\"{left} {operator} {right}\"\n",
    "    \n",
    "    if brackets and isinstance(lst[1], list):\n",
    "        return \"(\" + code + \")\"\n",
    "    else:\n",
    "        return code\n",
    "\n",
    "print(flatten(lst))"
   ]
  },
  {
   "cell_type": "code",
   "execution_count": 17,
   "metadata": {},
   "outputs": [
    {
     "name": "stdout",
     "output_type": "stream",
     "text": [
      "a < b OR (c == d AND e != f)\n"
     ]
    }
   ],
   "source": [
    "lst = [ \"OR\", [\"<\", \"a\", \"b\"], [ \"AND\", [\"==\", \"c\", \"d\"], [\"!=\", \"e\", \"f\"] ] ]\n",
    "\n",
    "\n",
    "def flatten(lst):\n",
    "    if not isinstance(lst[1], list):\n",
    "        return f\"{lst[1]} {lst[0]} {lst[2]}\"\n",
    "\n",
    "    return f\"({flatten(lst[1])} {lst[0]} {flatten(lst[2])})\"\n",
    "\n",
    "print(flatten(lst)[1:-1])"
   ]
  }
 ],
 "metadata": {
  "kernelspec": {
   "display_name": "Python 3.10.2 64-bit",
   "language": "python",
   "name": "python3"
  },
  "language_info": {
   "codemirror_mode": {
    "name": "ipython",
    "version": 3
   },
   "file_extension": ".py",
   "mimetype": "text/x-python",
   "name": "python",
   "nbconvert_exporter": "python",
   "pygments_lexer": "ipython3",
   "version": "3.10.2"
  },
  "orig_nbformat": 4,
  "vscode": {
   "interpreter": {
    "hash": "26de051ba29f2982a8de78e945f0abaf191376122a1563185a90213a26c5da77"
   }
  }
 },
 "nbformat": 4,
 "nbformat_minor": 2
}
