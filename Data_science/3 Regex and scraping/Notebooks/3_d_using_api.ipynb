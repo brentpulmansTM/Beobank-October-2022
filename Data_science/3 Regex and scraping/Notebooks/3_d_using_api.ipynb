{
 "cells": [
  {
   "cell_type": "markdown",
   "metadata": {},
   "source": [
    "# Using an API\n",
    "\n",
    "An Application Programming Interface (API) is an application programming interface, or API, enables companies to open up their applications’ data and functionality to external third-party developers, business partners, and internal departments within their companies. This allows services and products to communicate with each other and leverage each other’s data and functionality through a documented interface. Developers don't need to know how an API is implemented; they simply use the interface to communicate with other products and services. API use has surged over the past decade, to the degree that many of the most popular web applications today would not be possible without APIs.\n",
    "\n",
    "Basically it's a way to query databases without having to much permissions on them.\n",
    "\n",
    "We'll be using the [Schiphol API](https://developer.schiphol.nl/login). You need to register to get a key. Keep this key personal."
   ]
  },
  {
   "cell_type": "code",
   "execution_count": null,
   "metadata": {},
   "outputs": [],
   "source": [
    "with open('schiphol_api_key.txt') as f:\n",
    "    app_key = f.readline().strip()\n",
    "\n",
    "with open('schiphol_app_key.txt') as f:\n",
    "    app_id = f.readline().strip()\n"
   ]
  },
  {
   "cell_type": "markdown",
   "metadata": {},
   "source": [
    "Next is getting to know what Schiphol is willing to tell us. This is all in the [documentation](https://developer.schiphol.nl/documentation). There is a quickstart-part there, so let's start with copying that an reformatting it a little bit."
   ]
  },
  {
   "cell_type": "code",
   "execution_count": null,
   "metadata": {},
   "outputs": [],
   "source": [
    "import requests\n",
    "\n",
    "url = 'https://api.schiphol.nl/public-flights/flights'\n",
    "\n",
    "headers = {\n",
    "    'accept': 'application/json',\n",
    "    'resourceversion': 'v4',\n",
    "    'app_id': app_id,\n",
    "    'app_key': app_key\n",
    "}\n",
    "\n",
    "try:\n",
    "    response = requests.request('GET', url, headers=headers)\n",
    "except requests.exceptions.ConnectionError as error:\n",
    "    print(error)\n",
    "\n",
    "if response.status_code == 200:\n",
    "    flightList = response.json()\n",
    "    print('found {} flights.'.format(len(flightList['flights'])))\n",
    "    for flight in flightList['flights']:\n",
    "        print('Found flight with name: {} scheduled on: {} at {}'.format(\n",
    "            flight['flightName'],\n",
    "            flight['scheduleDate'],\n",
    "            flight['scheduleTime']))\n",
    "else:\n",
    "    print('''Oops something went wrong Http response code: {} {}'''.format(response.status_code, response.text))\n"
   ]
  },
  {
   "cell_type": "markdown",
   "metadata": {},
   "source": [
    "This give use the first 20 flights that arrived or took of at Schiphol airport. Could we get this for another date? More [documentation](https://developer.schiphol.nl/apis/flight-api/v4/flights?version=latest):\n",
    "\n",
    "![](images/2022-08-31-09-35-24.png)\n",
    "\n",
    "This screenshot shows how a date can be passed. Also note how the ResourceVersion is a **header** and scheduleDate is a **query**. This means we have to add it to the URL. You could do this manually, but there's also a [library](https://www.markhneedham.com/blog/2019/01/11/python-add-query-parameters-url/) for that."
   ]
  },
  {
   "cell_type": "code",
   "execution_count": null,
   "metadata": {},
   "outputs": [],
   "source": [
    "from requests.models import PreparedRequest\n",
    "req = PreparedRequest()\n",
    "\n",
    "url = 'https://api.schiphol.nl/public-flights/flights' # same as before\n",
    "params = {'scheduleDate':'2022-07-23','page':'2'}\n",
    "req.prepare_url(url, params)\n",
    "\n",
    "print(req.url)\n",
    "\n",
    "url = 'https://api.schiphol.nl/public-flights/flights' # same as before\n",
    "params = {'scheduleDate':'2022-07-23','page':'2','test_space':'a name'}\n",
    "req.prepare_url(url, params)\n",
    "\n",
    "print(req.url)"
   ]
  },
  {
   "cell_type": "markdown",
   "metadata": {},
   "source": [
    "This is promising, but does it work?"
   ]
  },
  {
   "cell_type": "code",
   "execution_count": null,
   "metadata": {},
   "outputs": [],
   "source": [
    "url = 'https://api.schiphol.nl/public-flights/flights' # same as before\n",
    "params = {'scheduleDate':'2022-07-23','page':'2'}\n",
    "req.prepare_url(url, params)\n",
    "\n",
    "print(req.url)\n",
    "\n",
    "try:\n",
    "    response = requests.request('GET', req.url, headers=headers)\n",
    "except requests.exceptions.ConnectionError as error:\n",
    "    print(error)\n",
    "\n",
    "if response.status_code == 200:\n",
    "    flightList = response.json()\n",
    "    print('found {} flights.'.format(len(flightList['flights'])))\n",
    "    for flight in flightList['flights']:\n",
    "        print('Found flight with name: {} scheduled on: {} at {}'.format(flight['flightName'],flight['scheduleDate'],flight['scheduleTime']))\n",
    "else:\n",
    "    print('''Oops something went wrong Http response code: {} {}'''.format(response.status_code, response.text))"
   ]
  },
  {
   "cell_type": "markdown",
   "metadata": {},
   "source": [
    "We get the flights from somewhere mid-summer, and not the first flights of the day so the pagination works.\n",
    "\n",
    "Which leads to another question: how many pages are there? Luckily, there is some [documentation](https://developer.schiphol.nl/apis/flight-api/overview?version=latest) on that. We need to get the HTTP-response headers. They are in the response (we can reuse the one we got earlier, so no need to put in another request."
   ]
  },
  {
   "cell_type": "code",
   "execution_count": null,
   "metadata": {},
   "outputs": [],
   "source": [
    "print(response.headers)"
   ]
  },
  {
   "cell_type": "markdown",
   "metadata": {},
   "source": [
    "We get four links:\n",
    "\n",
    "* <https://api.schiphol.nl:443/public-flights/flights?scheduleDate=2022-07-23>; rel=\"first\"\n",
    "* <https://api.schiphol.nl:443/public-flights/flights?scheduleDate=2022-07-23&page=1>; rel=\"prev\"\n",
    "* <https://api.schiphol.nl:443/public-flights/flights?scheduleDate=2022-07-23&page=3>; rel=\"next\"\n",
    "* <https://api.schiphol.nl:443/public-flights/flights?scheduleDate=2022-07-23&page=199>; rel=\"last\"'\n",
    "\n",
    "They are written still in one big chunk though, so let's split them up. Good news: we get to use regex!"
   ]
  },
  {
   "cell_type": "code",
   "execution_count": null,
   "metadata": {},
   "outputs": [],
   "source": [
    "import re\n",
    "\n",
    "links = response.headers['link']\n",
    "separate = links.split(',')\n",
    "\n",
    "links_dict = {}\n",
    "for link in separate:\n",
    "    url, name = link.split(\";\")\n",
    "    # name = re.sub(\" rel=\\\"([a-z]*)\\\"\", r'\\1', name)\n",
    "    name = re.sub(\" rel=\\\"(first|next|prev|last)\\\"\", r'\\1', name) # much stricter, so better\n",
    "    links_dict[name] = url\n",
    "\n",
    "print(links_dict)\n"
   ]
  },
  {
   "cell_type": "markdown",
   "metadata": {},
   "source": [
    "What we could do to get all pages is always get the \"next\" page until we run out of next-pages. Another angle would be to look for the last page number and write a for-loop to get all pages in between. Let's first check what the header in this last page looks like."
   ]
  },
  {
   "cell_type": "code",
   "execution_count": null,
   "metadata": {},
   "outputs": [],
   "source": [
    "url = 'https://api.schiphol.nl/public-flights/flights'\n",
    "params = {'scheduleDate':'2022-07-23','page':'199'}\n",
    "req.prepare_url(url, params)\n",
    "\n",
    "try:\n",
    "    response = requests.request('GET', req.url, headers=headers)\n",
    "except requests.exceptions.ConnectionError as error:\n",
    "    print(error)\n",
    "\n",
    "if response.status_code == 200:\n",
    "    flightList = response.json()\n",
    "    print('found {} flights.'.format(len(flightList['flights'])))\n",
    "    # for flight in flightList['flights']:\n",
    "    #     print('Found flight with name: {} scheduled on: {} at {}'.format(flight['flightName'],flight['scheduleDate'],flight['scheduleTime']))\n",
    "\n",
    "print(response.headers)\n"
   ]
  },
  {
   "cell_type": "markdown",
   "metadata": {},
   "source": [
    "There are no longer links for \"next\" or \"last\". This is a recipe for a very nice recursive function, something like:\n",
    "\n",
    "<pre>\n",
    "def get_all_pages(date, url = None):\n",
    "    if url = None:\n",
    "        create url from date\n",
    "    download the pages from url\n",
    "    store in list\n",
    "\n",
    "    if header has \"next\":\n",
    "        list += get_all_pages(next_url)\n",
    "\n",
    "    return list\n",
    "</pre>\n",
    "\n",
    "But let's do a loop for now. And start dividing up the code in functions.\n",
    "\n",
    "* Get_page: get a page based on a URL. Returns all flights and all response headers in one dict.\n",
    "* Create_url: create a URL based on a date and a page.\n",
    "* Get_links: convert the \"link\"-part in the headers to a dict with all links."
   ]
  },
  {
   "cell_type": "code",
   "execution_count": null,
   "metadata": {},
   "outputs": [],
   "source": [
    "def get_page(url):\n",
    "    print(url)\n",
    "    try:\n",
    "        response = requests.request('GET', url, headers=headers)\n",
    "    except requests.exceptions.ConnectionError as error:\n",
    "        print(error)\n",
    "\n",
    "    return_list = {'headers': response.headers}\n",
    "\n",
    "    if response.status_code == 200:\n",
    "        flightList = response.json()\n",
    "        return_list['flights'] = flightList['flights']\n",
    "    \n",
    "    return return_list\n",
    "\n",
    "def create_url(base_url, date, page=0):\n",
    "    req = PreparedRequest()\n",
    "    params = {'scheduleDate':date}\n",
    "    if page > 0:\n",
    "        params['page'] = page\n",
    "    \n",
    "    req.prepare_url(base_url, params)\n",
    "    return req.url\n",
    "\n",
    "def get_links(raw):\n",
    "    separate = raw.split(',')\n",
    "\n",
    "    links_dict = {}\n",
    "    for link in separate:\n",
    "        url, name = link.split(\";\")\n",
    "        # name = re.sub(\" rel=\\\"([a-z]*)\\\"\", r'\\1', name)\n",
    "        name = re.sub(\" rel=\\\"(first|next|prev|last)\\\"\", r'\\1', name) # much stricter, so better\n",
    "        links_dict[name] = url\n",
    "\n",
    "    return links_dict"
   ]
  },
  {
   "cell_type": "markdown",
   "metadata": {},
   "source": [
    "And now al is left is to use these functions..."
   ]
  },
  {
   "cell_type": "code",
   "execution_count": null,
   "metadata": {},
   "outputs": [],
   "source": [
    "url = create_url('https://api.schiphol.nl/public-flights/flights', '2022-07-23')\n",
    "\n",
    "page = get_page(url)\n",
    "\n",
    "all_flights = list()\n",
    "\n",
    "if 'flights' in page:\n",
    "    all_flights.extend(page['flights'])\n",
    "\n",
    "if 'headers' in page:\n",
    "    links = get_links(page['headers']['link'])\n",
    "    print(links)\n",
    "    match = re.search(\"page=(\\d{1,4})\", links['last'])\n",
    "    if match:\n",
    "        last_page = int(match[1])\n",
    "\n",
    "\n",
    "# for i in range(2,last_page+1):\n",
    "for i in range(last_page-5,last_page+1):\n",
    "    url = create_url('https://api.schiphol.nl/public-flights/flights', '2022-07-23', i)\n",
    "    page = get_page(url)\n",
    "    if 'flights' in page:\n",
    "        all_flights.extend(page['flights'])\n",
    "\n",
    "print(len(all_flights))"
   ]
  },
  {
   "cell_type": "markdown",
   "metadata": {},
   "source": [
    "Note how there are a lot of unnecessary ifs there. They become useful when you enter a non-existing day and there is no response. They're not perfect yet, you could play around with it to get the code more robust. But keep in mind the tradeoff when robusting code: <quote>robustness of code should proportional to the level of intelligence of the users</quote>. This means:\n",
    "\n",
    "* Code written for users (aka non-IT) should be very robust.\n",
    "* Code written for colleagues should be pretty robust.\n",
    "* Code written for yourself should be somewhat robust. Or not robust at all. Much depends on how much time you have to write the code.\n",
    "\n",
    "You could print the flights, or store them in a CSV or a pickle-file. That is all up to you!"
   ]
  },
  {
   "cell_type": "code",
   "execution_count": null,
   "metadata": {},
   "outputs": [],
   "source": [
    "print(all_flights)"
   ]
  },
  {
   "cell_type": "markdown",
   "metadata": {},
   "source": [
    "So is this a finished product? No. This notebook has tried to show the process of understanding and querying an API. If you want a real script to download all flights for a certain month you'll have some more copy-pasting to do into a .py-file (don't forget the imports) and figure out what of the flights you want to store. But the difficult part is done!"
   ]
  }
 ],
 "metadata": {
  "kernelspec": {
   "display_name": "Python 3.10.2 64-bit",
   "language": "python",
   "name": "python3"
  },
  "language_info": {
   "codemirror_mode": {
    "name": "ipython",
    "version": 3
   },
   "file_extension": ".py",
   "mimetype": "text/x-python",
   "name": "python",
   "nbconvert_exporter": "python",
   "pygments_lexer": "ipython3",
   "version": "3.10.2"
  },
  "orig_nbformat": 4,
  "vscode": {
   "interpreter": {
    "hash": "26de051ba29f2982a8de78e945f0abaf191376122a1563185a90213a26c5da77"
   }
  }
 },
 "nbformat": 4,
 "nbformat_minor": 2
}
