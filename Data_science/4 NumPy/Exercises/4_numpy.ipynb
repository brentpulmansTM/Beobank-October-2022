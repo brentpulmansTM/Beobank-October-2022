{
 "cells": [
  {
   "cell_type": "markdown",
   "metadata": {},
   "source": [
    "# Exercises numpy\n",
    "\n",
    "Numpy is embedded quite well into pandas (which is the next chapter). It also doesn't add all that much to Python that can't be achieved by simply using python lists (or tuples or dicts or...).\n",
    "\n",
    "But numpy is typed. Normal python aren't, so if you make a list of integers, python will make sure it will fit floats or very large strings as well. This means a lot of memory is required, where numpy knows what the array is for, and will give it just enough memory."
   ]
  },
  {
   "cell_type": "markdown",
   "metadata": {},
   "source": [
    "## Advent of code 2015, day 6\n",
    "\n",
    "We did the decoding of the file using regexes before, now we'll be doing the rest.\n",
    "\n",
    "The link: [advent of code 2015, day 6](https://adventofcode.com/2015/day/6)\n",
    "\n",
    "The problem: you have 1000x1000 grid of lights, and need to turn them on or off based on a file-input. In the end you need to know how many are on. We'll be solving this by creating the actual array and simply turning setting the lights according to the file.\n",
    "\n",
    "Fun fact: if you're not properly challenged by this, take a look at [this one](https://adventofcode.com/2021/day/22). It's the same but in three dimensions. You can fix part 1 much in the same way as we'll be doing it now, but for part 2 you won't have the memory so you'll have to find a different way.\n",
    "\n",
    "We'll give you empty code-boxes, but describe what they should do."
   ]
  },
  {
   "cell_type": "markdown",
   "metadata": {},
   "source": [
    "* Import numpy and regex\n",
    "* Copy paste the regex-code from the previous chapter\n",
    "* Create an empty grid of 1000 by 1000 zeros\n",
    "* Import all (decoded) lines from your file into an array "
   ]
  },
  {
   "cell_type": "code",
   "execution_count": null,
   "metadata": {},
   "outputs": [],
   "source": []
  },
  {
   "cell_type": "markdown",
   "metadata": {},
   "source": [
    "You can use the following code to create the small arrays that are given to test your code:"
   ]
  },
  {
   "cell_type": "code",
   "execution_count": null,
   "metadata": {},
   "outputs": [],
   "source": [
    "grid = np.zeros( (6,6) )\n",
    "data = [('toggle', (0,0), (5,0)), ('toggle', (0,0), (0,5)), ('turn on', (4,4), (5,5))]"
   ]
  },
  {
   "cell_type": "markdown",
   "metadata": {},
   "source": [
    "Make 2 functions:\n",
    "\n",
    "\"get_value(current, action)\"\n",
    "\n",
    "Current is the current state of a light (1 or 0), action is what you want to do 'turn on', 'turn off' or 'toggle'. The return value is whatever the value needs to become.\n",
    "\n",
    "\"apply_to_grid(line)\"\n",
    "\n",
    "Line is a decoded line, it's a python-list (or tuple) consisting of:\n",
    "\n",
    "* the action\n",
    "* tuple of start coordinate\n",
    "* tuple of end coordinate\n",
    "\n",
    "It will apply the action to all points within the coordinates."
   ]
  },
  {
   "cell_type": "code",
   "execution_count": null,
   "metadata": {},
   "outputs": [],
   "source": []
  },
  {
   "cell_type": "markdown",
   "metadata": {},
   "source": [
    "And now apply all the lines from your \"data\"-list to the numpy-array. When done print the sum of the array (this equals the number of lights turned on)."
   ]
  },
  {
   "cell_type": "code",
   "execution_count": null,
   "metadata": {},
   "outputs": [],
   "source": []
  },
  {
   "cell_type": "markdown",
   "metadata": {},
   "source": [
    "Want to do part 2 as well? Great!\n",
    "\n",
    "All you need to do is rewrite the function \"get_value\". You could apply it to a second numpy-array, but the easiest way is to simple redefine the \"get_value\"-function and run the previous code again.\n",
    "\n",
    "Do remember to re-initialise your numpy-array.\n",
    "\n",
    "(Note we're completely abusing Jupyter here: we define a function below, but use it in a code-cell that we wrote above. That's possible because they all share the same memory-space, but it's not how notebooks are supposed to be used. Rule of thumb: jumping up and down a notebook is fine when developing, not when presenting it.)"
   ]
  },
  {
   "cell_type": "code",
   "execution_count": null,
   "metadata": {},
   "outputs": [],
   "source": []
  }
 ],
 "metadata": {
  "interpreter": {
   "hash": "26de051ba29f2982a8de78e945f0abaf191376122a1563185a90213a26c5da77"
  },
  "kernelspec": {
   "display_name": "Python 3.10.2 64-bit",
   "language": "python",
   "name": "python3"
  },
  "language_info": {
   "codemirror_mode": {
    "name": "ipython",
    "version": 3
   },
   "file_extension": ".py",
   "mimetype": "text/x-python",
   "name": "python",
   "nbconvert_exporter": "python",
   "pygments_lexer": "ipython3",
   "version": "3.10.2"
  },
  "orig_nbformat": 4
 },
 "nbformat": 4,
 "nbformat_minor": 2
}
